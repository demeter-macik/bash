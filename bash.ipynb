{
 "cells": [
  {
   "cell_type": "markdown",
   "metadata": {},
   "source": [
    "# Shell Commands"
   ]
  },
  {
   "cell_type": "markdown",
   "metadata": {},
   "source": [
    "## Compound Commands"
   ]
  },
  {
   "cell_type": "markdown",
   "metadata": {},
   "source": [
    "### Looping Constructs"
   ]
  },
  {
   "cell_type": "markdown",
   "metadata": {},
   "source": [
    "#### Until"
   ]
  },
  {
   "cell_type": "code",
   "execution_count": 87,
   "metadata": {
    "tags": []
   },
   "outputs": [
    {
     "name": "stdout",
     "output_type": "stream",
     "text": [
      "1\n",
      "2\n",
      "3\n",
      "4\n"
     ]
    }
   ],
   "source": [
    "%%bash\n",
    "\n",
    "i=1\n",
    "until [ $i -ge 5 ]; \n",
    "do\n",
    "    echo $i\n",
    "    ((i++))\n",
    "done"
   ]
  },
  {
   "cell_type": "markdown",
   "metadata": {},
   "source": [
    "#### While"
   ]
  },
  {
   "cell_type": "code",
   "execution_count": 88,
   "metadata": {
    "scrolled": true
   },
   "outputs": [
    {
     "name": "stdout",
     "output_type": "stream",
     "text": [
      "1\n",
      "2\n",
      "3\n",
      "4\n",
      "5\n"
     ]
    }
   ],
   "source": [
    "%%bash\n",
    "\n",
    "i=1\n",
    "while [ $i -le 5 ]\n",
    "do\n",
    "    echo $i\n",
    "    ((i++))\n",
    "done"
   ]
  },
  {
   "cell_type": "markdown",
   "metadata": {},
   "source": [
    "#### For"
   ]
  },
  {
   "cell_type": "code",
   "execution_count": 89,
   "metadata": {},
   "outputs": [
    {
     "name": "stdout",
     "output_type": "stream",
     "text": [
      "1\n",
      "2\n",
      "3\n"
     ]
    }
   ],
   "source": [
    "%%bash\n",
    "\n",
    "for NUMBER in 1 2 3; do\n",
    "    echo $NUMBER\n",
    "done"
   ]
  },
  {
   "cell_type": "markdown",
   "metadata": {},
   "source": [
    "With range and step."
   ]
  },
  {
   "cell_type": "code",
   "execution_count": 90,
   "metadata": {},
   "outputs": [
    {
     "name": "stdout",
     "output_type": "stream",
     "text": [
      "1\n",
      "3\n",
      "5\n",
      "7\n",
      "9\n"
     ]
    }
   ],
   "source": [
    "%%bash\n",
    "\n",
    "for NUMBER in {1..10..2}; do\n",
    "    echo $NUMBER\n",
    "done"
   ]
  },
  {
   "cell_type": "markdown",
   "metadata": {},
   "source": [
    "With an array."
   ]
  },
  {
   "cell_type": "code",
   "execution_count": 91,
   "metadata": {},
   "outputs": [
    {
     "name": "stdout",
     "output_type": "stream",
     "text": [
      "1\n",
      "2\n",
      "3\n",
      "4\n",
      "5\n"
     ]
    }
   ],
   "source": [
    "%%bash\n",
    "\n",
    "NUMBERS=(1 2 3 4 5)\n",
    "for NUMBER in ${NUMBERS[@]}; do\n",
    "    echo $NUMBER\n",
    "done"
   ]
  },
  {
   "cell_type": "markdown",
   "metadata": {},
   "source": [
    "Three expressions"
   ]
  },
  {
   "cell_type": "code",
   "execution_count": 92,
   "metadata": {},
   "outputs": [
    {
     "name": "stdout",
     "output_type": "stream",
     "text": [
      "13\n",
      "14\n",
      "15\n"
     ]
    }
   ],
   "source": [
    "%%bash\n",
    "\n",
    "for (( c=10; c<=20; c++ ))\n",
    "do\n",
    "    if [ \"$c\" -le 12 ]; then\n",
    "        continue\n",
    "    elif [ \"$c\" -gt \"15\" ]; then\n",
    "        break\n",
    "    fi\n",
    "    echo $c\n",
    "done"
   ]
  },
  {
   "cell_type": "markdown",
   "metadata": {},
   "source": [
    "### Conditional Constructs"
   ]
  },
  {
   "cell_type": "markdown",
   "metadata": {},
   "source": [
    "#### If"
   ]
  },
  {
   "cell_type": "code",
   "execution_count": 93,
   "metadata": {},
   "outputs": [
    {
     "name": "stdout",
     "output_type": "stream",
     "text": [
      "true\n"
     ]
    }
   ],
   "source": [
    "%%bash\n",
    "\n",
    "NUM=5\n",
    "if [[ \"$NUM\" -eq 5 ]]; then\n",
    "    echo true\n",
    "else\n",
    "    echo false\n",
    "fi"
   ]
  },
  {
   "cell_type": "markdown",
   "metadata": {},
   "source": [
    "#### Case"
   ]
  },
  {
   "cell_type": "markdown",
   "metadata": {},
   "source": [
    "Basic."
   ]
  },
  {
   "cell_type": "code",
   "execution_count": 94,
   "metadata": {},
   "outputs": [
    {
     "name": "stdout",
     "output_type": "stream",
     "text": [
      "match\n"
     ]
    }
   ],
   "source": [
    "%%bash\n",
    "\n",
    "NAME=john\n",
    "case $NAME in\n",
    "    john | John | JOHN)echo \"match\";;\n",
    "    jan | \"Jan Jan\") echo \"match\";;\n",
    "    # Default\n",
    "    *) echo \"Not found\";;\n",
    "esac"
   ]
  },
  {
   "cell_type": "markdown",
   "metadata": {},
   "source": [
    "Execute next."
   ]
  },
  {
   "cell_type": "code",
   "execution_count": 95,
   "metadata": {},
   "outputs": [
    {
     "name": "stdout",
     "output_type": "stream",
     "text": [
      "match\n",
      "match\n"
     ]
    }
   ],
   "source": [
    "%%bash\n",
    "\n",
    "NAME=a\n",
    "case $NAME in\n",
    "  a) echo \"match\";&\n",
    "  b) echo \"match\";;\n",
    "  c) echo \"match\";;\n",
    "  c) echo \"match\";;\n",
    "esac"
   ]
  },
  {
   "cell_type": "markdown",
   "metadata": {},
   "source": [
    "Test next."
   ]
  },
  {
   "cell_type": "code",
   "execution_count": 96,
   "metadata": {},
   "outputs": [
    {
     "name": "stdout",
     "output_type": "stream",
     "text": [
      "match\n"
     ]
    }
   ],
   "source": [
    "%%bash\n",
    "\n",
    "NAME=a\n",
    "case $NAME in\n",
    "  a) echo \"match\";;&\n",
    "  b) echo \"match\";;\n",
    "  c) echo \"match\";;\n",
    "  c) echo \"match\";;\n",
    "esac"
   ]
  },
  {
   "cell_type": "markdown",
   "metadata": {},
   "source": [
    "#### Select"
   ]
  },
  {
   "cell_type": "markdown",
   "metadata": {},
   "source": [
    "One of the options."
   ]
  },
  {
   "cell_type": "code",
   "execution_count": 97,
   "metadata": {},
   "outputs": [
    {
     "name": "stdout",
     "output_type": "stream",
     "text": [
      "\n"
     ]
    },
    {
     "name": "stderr",
     "output_type": "stream",
     "text": [
      "1) a\n",
      "2) b\n",
      "3) c\n",
      "#? "
     ]
    }
   ],
   "source": [
    "%%bash\n",
    "\n",
    "OPTIONS=( a b c )\n",
    "select CHOISE in ${OPTIONS[@]}\n",
    "do\n",
    "    echo \"Selection: $CHOISE\"\n",
    "    break;\n",
    "done"
   ]
  },
  {
   "cell_type": "markdown",
   "metadata": {},
   "source": [
    "Files from current directory."
   ]
  },
  {
   "cell_type": "code",
   "execution_count": 98,
   "metadata": {},
   "outputs": [
    {
     "name": "stdout",
     "output_type": "stream",
     "text": [
      "\n"
     ]
    },
    {
     "name": "stderr",
     "output_type": "stream",
     "text": [
      "1) README.md\n",
      "2) bash.ipynb\n",
      "3) files\n",
      "4) function.sh\n",
      "5) test.sh\n",
      "#? "
     ]
    }
   ],
   "source": [
    "%%bash\n",
    "\n",
    "select fname in *;\n",
    "do\n",
    "    echo Selection $fname \\($REPLY\\)\n",
    "    break;\n",
    "done"
   ]
  },
  {
   "cell_type": "markdown",
   "metadata": {},
   "source": [
    "#### Arithmetic expressions"
   ]
  },
  {
   "cell_type": "markdown",
   "metadata": {},
   "source": [
    "Returns 0 if result is grether than 0."
   ]
  },
  {
   "cell_type": "code",
   "execution_count": 99,
   "metadata": {},
   "outputs": [
    {
     "name": "stdout",
     "output_type": "stream",
     "text": [
      "True\n"
     ]
    }
   ],
   "source": [
    "%%bash\n",
    "\n",
    "if ((5)); then\n",
    "  echo True\n",
    "else\n",
    "  echo False\n",
    "fi"
   ]
  },
  {
   "cell_type": "markdown",
   "metadata": {},
   "source": [
    "Returns 1 if result is equal 0"
   ]
  },
  {
   "cell_type": "code",
   "execution_count": 100,
   "metadata": {},
   "outputs": [
    {
     "name": "stdout",
     "output_type": "stream",
     "text": [
      "True\n"
     ]
    }
   ],
   "source": [
    "%%bash\n",
    "\n",
    "if ((0)); then\n",
    "  echo False\n",
    "else\n",
    "  echo True\n",
    "fi"
   ]
  },
  {
   "cell_type": "markdown",
   "metadata": {},
   "source": [
    "#### Conditional expressions"
   ]
  },
  {
   "cell_type": "markdown",
   "metadata": {},
   "source": [
    "Regular expression."
   ]
  },
  {
   "cell_type": "code",
   "execution_count": 101,
   "metadata": {},
   "outputs": [
    {
     "name": "stdout",
     "output_type": "stream",
     "text": [
      "match\n"
     ]
    }
   ],
   "source": [
    "%%bash\n",
    "\n",
    "name=file.txt\n",
    "pattern='\\.txt'\n",
    "[[ $name =~ $pattern ]] && echo match"
   ]
  },
  {
   "cell_type": "markdown",
   "metadata": {},
   "source": [
    "Invalid regular expression. This doesn't work because ' is a part of the pattern."
   ]
  },
  {
   "cell_type": "code",
   "execution_count": 102,
   "metadata": {},
   "outputs": [
    {
     "name": "stdout",
     "output_type": "stream",
     "text": [
      "doesn't match\n"
     ]
    }
   ],
   "source": [
    "%%bash\n",
    "\n",
    "name=file.txt\n",
    "# This doesn't work because ' is a part of the pattern\n",
    "[[ $name =~ '\\.txt' ]] || echo \"doesn't match\""
   ]
  },
  {
   "cell_type": "markdown",
   "metadata": {},
   "source": [
    "Boolean operation."
   ]
  },
  {
   "cell_type": "code",
   "execution_count": 103,
   "metadata": {},
   "outputs": [
    {
     "name": "stdout",
     "output_type": "stream",
     "text": [
      "match\n"
     ]
    }
   ],
   "source": [
    "%%bash\n",
    "\n",
    "name=file.txt\n",
    "pattern1='\\.txt'\n",
    "pattern2='file\\.'\n",
    "[[ ($name =~ $pattern1) && ($name =~ $pattern2) ]] && echo match"
   ]
  },
  {
   "cell_type": "markdown",
   "metadata": {},
   "source": [
    "Bracket globbing."
   ]
  },
  {
   "cell_type": "code",
   "execution_count": 104,
   "metadata": {},
   "outputs": [
    {
     "name": "stdout",
     "output_type": "stream",
     "text": [
      "match\n"
     ]
    }
   ],
   "source": [
    "%%bash\n",
    "\n",
    "name=file.txt\n",
    "pattern='\\.txt'\n",
    "[[ $name = [fgr]ile.txt ]] && echo match"
   ]
  },
  {
   "cell_type": "markdown",
   "metadata": {},
   "source": [
    "### Grouping Commands"
   ]
  },
  {
   "cell_type": "markdown",
   "metadata": {},
   "source": [
    "Grouping without side effects using `()`."
   ]
  },
  {
   "cell_type": "code",
   "execution_count": 105,
   "metadata": {},
   "outputs": [
    {
     "name": "stdout",
     "output_type": "stream",
     "text": [
      "local: 2\n",
      "global: 1\n"
     ]
    }
   ],
   "source": [
    "%%bash\n",
    "\n",
    "counter=1\n",
    "( ((counter++)); echo \"local: $counter\" )\n",
    "echo \"global: $counter\""
   ]
  },
  {
   "cell_type": "markdown",
   "metadata": {},
   "source": [
    "Grouping with side effects using `{}`."
   ]
  },
  {
   "cell_type": "code",
   "execution_count": 106,
   "metadata": {},
   "outputs": [
    {
     "name": "stdout",
     "output_type": "stream",
     "text": [
      "local: 2\n",
      "global: 2\n"
     ]
    }
   ],
   "source": [
    "%%bash\n",
    "\n",
    "counter=1\n",
    "{ ((counter++)); echo \"local: $counter\"; }\n",
    "echo \"global: $counter\""
   ]
  },
  {
   "cell_type": "markdown",
   "metadata": {},
   "source": [
    "## Coprocesses"
   ]
  },
  {
   "cell_type": "markdown",
   "metadata": {},
   "source": [
    "Replaces `a` to `b`. `COPROC` is a default variable name."
   ]
  },
  {
   "cell_type": "code",
   "execution_count": 107,
   "metadata": {},
   "outputs": [
    {
     "name": "stdout",
     "output_type": "stream",
     "text": [
      "PID: 1278\n",
      "bbb\n"
     ]
    }
   ],
   "source": [
    "%%bash\n",
    "\n",
    "coproc { tr a b; }\n",
    "echo \"PID: $COPROC_PID\"\n",
    "echo aaa >&\"${COPROC[1]}\" # standard input [1]\n",
    "exec {COPROC[1]}>&-\n",
    "cat <&\"${COPROC[0]}\" # standard output [0]"
   ]
  },
  {
   "cell_type": "code",
   "execution_count": 108,
   "metadata": {},
   "outputs": [
    {
     "name": "stdout",
     "output_type": "stream",
     "text": [
      "PID: 1282\n",
      "AAA\n"
     ]
    }
   ],
   "source": [
    "%%bash\n",
    "\n",
    "coproc name { tr [:lower:] [:upper:]; }\n",
    "echo \"PID: $name_PID\"\n",
    "echo aAa >&\"${name[1]}\"\n",
    "exec {name[1]}>&-\n",
    "cat <&\"${name[0]}\""
   ]
  },
  {
   "cell_type": "markdown",
   "metadata": {},
   "source": [
    "## GNU Parallel"
   ]
  },
  {
   "cell_type": "markdown",
   "metadata": {},
   "source": [
    "TODO"
   ]
  },
  {
   "cell_type": "markdown",
   "metadata": {},
   "source": [
    "# Shell Functions"
   ]
  },
  {
   "cell_type": "markdown",
   "metadata": {},
   "source": [
    "Without reserved name `function`."
   ]
  },
  {
   "cell_type": "code",
   "execution_count": 109,
   "metadata": {},
   "outputs": [
    {
     "name": "stdout",
     "output_type": "stream",
     "text": [
      "Number of arguments: 3\n"
     ]
    }
   ],
   "source": [
    "%%bash\n",
    "\n",
    "f1() (\n",
    "  echo \"Number of arguments: $#\"\n",
    ")\n",
    "f1 a b c"
   ]
  },
  {
   "cell_type": "markdown",
   "metadata": {},
   "source": [
    "With reserved word `function`."
   ]
  },
  {
   "cell_type": "code",
   "execution_count": 110,
   "metadata": {},
   "outputs": [
    {
     "name": "stdout",
     "output_type": "stream",
     "text": [
      "Third argument: c\n"
     ]
    }
   ],
   "source": [
    "%%bash\n",
    "\n",
    "function f {\n",
    "  echo \"Third argument: $3\";\n",
    "}\n",
    "f a b c"
   ]
  },
  {
   "cell_type": "markdown",
   "metadata": {},
   "source": [
    "Remove function."
   ]
  },
  {
   "cell_type": "code",
   "execution_count": 111,
   "metadata": {},
   "outputs": [
    {
     "name": "stdout",
     "output_type": "stream",
     "text": [
      "removed\n"
     ]
    }
   ],
   "source": [
    "%%bash\n",
    "\n",
    "function f {\n",
    "  echo \"Third argument: $3\";\n",
    "}\n",
    "unset -f f && echo removed"
   ]
  },
  {
   "cell_type": "markdown",
   "metadata": {},
   "source": [
    "Local variables."
   ]
  },
  {
   "cell_type": "code",
   "execution_count": 112,
   "metadata": {},
   "outputs": [
    {
     "name": "stdout",
     "output_type": "stream",
     "text": [
      "local value\n",
      "initial value\n",
      "\n"
     ]
    }
   ],
   "source": [
    "%%bash\n",
    "\n",
    "loc='initial value'\n",
    "f() (\n",
    "  local loc='local value'\n",
    "  glo=global\n",
    "  echo $loc\n",
    ")\n",
    "f\n",
    "echo $loc\n",
    "echo $glo"
   ]
  },
  {
   "cell_type": "markdown",
   "metadata": {},
   "source": [
    "Print function declaration."
   ]
  },
  {
   "cell_type": "code",
   "execution_count": 113,
   "metadata": {},
   "outputs": [
    {
     "name": "stdout",
     "output_type": "stream",
     "text": [
      "f () \n",
      "{ \n",
      "    ( echo \"Hello!\" )\n",
      "}\n"
     ]
    }
   ],
   "source": [
    "%%bash\n",
    "\n",
    "f() (\n",
    "    echo \"Hello!\"\n",
    ")\n",
    "declare -f f"
   ]
  },
  {
   "cell_type": "markdown",
   "metadata": {},
   "source": [
    "Recursive function call. `FUNCNEST` defines a maximum function nesting level."
   ]
  },
  {
   "cell_type": "code",
   "execution_count": 114,
   "metadata": {},
   "outputs": [
    {
     "name": "stdout",
     "output_type": "stream",
     "text": [
      "Call recursivelly: 5\n",
      "Call recursivelly: 4\n",
      "Call recursivelly: 3\n",
      "Call recursivelly: 2\n",
      "Call recursivelly: 1\n"
     ]
    }
   ],
   "source": [
    "%%bash\n",
    "\n",
    "counter=5\n",
    "f () (\n",
    "  echo Call recursivelly: $counter\n",
    "  if [[ \"$counter\" -gt 1 ]]; then\n",
    "    ((counter--))\n",
    "    f\n",
    "  fi\n",
    ")\n",
    "f"
   ]
  },
  {
   "cell_type": "markdown",
   "metadata": {},
   "source": [
    "Export function."
   ]
  },
  {
   "cell_type": "markdown",
   "metadata": {},
   "source": [
    "`function.sh` code:\n",
    "```\n",
    "#!/bin/bash\n",
    "\n",
    "f f r e r e\n",
    "```"
   ]
  },
  {
   "cell_type": "code",
   "execution_count": 115,
   "metadata": {},
   "outputs": [
    {
     "name": "stdout",
     "output_type": "stream",
     "text": [
      "Number of arguments: 5\n"
     ]
    }
   ],
   "source": [
    "%%bash\n",
    "\n",
    "f() (\n",
    "    echo \"Number of arguments: $#\"\n",
    ")\n",
    "export -f f\n",
    "./function.sh"
   ]
  },
  {
   "cell_type": "markdown",
   "metadata": {},
   "source": [
    "# Shell Parameters"
   ]
  },
  {
   "cell_type": "markdown",
   "metadata": {},
   "source": [
    "## Positional Parameters"
   ]
  },
  {
   "cell_type": "markdown",
   "metadata": {},
   "source": [
    "Declare shell parameter."
   ]
  },
  {
   "cell_type": "code",
   "execution_count": 116,
   "metadata": {},
   "outputs": [
    {
     "name": "stdout",
     "output_type": "stream",
     "text": [
      "parameter value is a\n"
     ]
    }
   ],
   "source": [
    "%%bash\n",
    "\n",
    "declare var=a\n",
    "echo parameter value is $var"
   ]
  },
  {
   "cell_type": "markdown",
   "metadata": {},
   "source": [
    "Appending to string."
   ]
  },
  {
   "cell_type": "code",
   "execution_count": 117,
   "metadata": {},
   "outputs": [
    {
     "name": "stdout",
     "output_type": "stream",
     "text": [
      "String 66634\n"
     ]
    }
   ],
   "source": [
    "%%bash\n",
    "\n",
    "num=666\n",
    "num+=34\n",
    "echo String $num"
   ]
  },
  {
   "cell_type": "markdown",
   "metadata": {},
   "source": [
    "Append to integer."
   ]
  },
  {
   "cell_type": "code",
   "execution_count": 118,
   "metadata": {},
   "outputs": [
    {
     "name": "stdout",
     "output_type": "stream",
     "text": [
      "Integer 700\n"
     ]
    }
   ],
   "source": [
    "%%bash\n",
    "\n",
    "declare -i num=666\n",
    "num+=34\n",
    "echo Integer $num"
   ]
  },
  {
   "cell_type": "markdown",
   "metadata": {},
   "source": [
    "Declare reference to variable."
   ]
  },
  {
   "cell_type": "code",
   "execution_count": 119,
   "metadata": {},
   "outputs": [
    {
     "name": "stdout",
     "output_type": "stream",
     "text": [
      "original value: 1310 reference: 1310\n"
     ]
    }
   ],
   "source": [
    "%%bash\n",
    "\n",
    "declare -n ref=num\n",
    "num+=13\n",
    "ref+=10\n",
    "echo original value: $num reference: $ref"
   ]
  },
  {
   "cell_type": "code",
   "execution_count": 120,
   "metadata": {},
   "outputs": [
    {
     "name": "stdout",
     "output_type": "stream",
     "text": [
      "parameters: 2 first: b second: c\n"
     ]
    }
   ],
   "source": [
    "%%bash\n",
    "\n",
    "f() (\n",
    "  shift 1\n",
    "  echo parameters: $# first: $1 second: $2\n",
    ")\n",
    "f a b c"
   ]
  },
  {
   "cell_type": "markdown",
   "metadata": {},
   "source": [
    "Print all shell variables and functions.\n",
    "```\n",
    "#!/bin/bash\n",
    "set\n",
    "```"
   ]
  },
  {
   "cell_type": "markdown",
   "metadata": {},
   "source": [
    "Set positional parameters."
   ]
  },
  {
   "cell_type": "code",
   "execution_count": 121,
   "metadata": {},
   "outputs": [
    {
     "name": "stdout",
     "output_type": "stream",
     "text": [
      "parameters: x y z\n"
     ]
    }
   ],
   "source": [
    "%%bash\n",
    "\n",
    "f() (\n",
    "  set x y z\n",
    "  echo parameters: $*\n",
    ")\n",
    "f a b c"
   ]
  },
  {
   "cell_type": "markdown",
   "metadata": {},
   "source": [
    "### Special Parameters"
   ]
  },
  {
   "cell_type": "markdown",
   "metadata": {},
   "source": [
    "Difference between `$*` and `$@`.\n",
    "```\n",
    "# $*\t$1 $2 $3...\n",
    "# $@\t$1 $2 $3...\n",
    "# \"$*\"\t\"$1 $2 $3...\"\n",
    "# \"$@\"\t\"$1\" \"$2\" \"$3\"...\n",
    "```"
   ]
  },
  {
   "cell_type": "code",
   "execution_count": 122,
   "metadata": {},
   "outputs": [
    {
     "name": "stdout",
     "output_type": "stream",
     "text": [
      "parameters: aaa bbb ccc\n",
      "parameters: aaa bbb ccc\n",
      "number of parameters: 3\n",
      "last exit code: 0\n",
      "current options flags: hB\n",
      "process id: 1309\n",
      "last background process: 1311\n",
      "name of the shell: bash\n",
      "startup: bash\n"
     ]
    }
   ],
   "source": [
    "%%bash\n",
    "\n",
    "f() (\n",
    "  echo parameters: $*\n",
    "  echo parameters: $@\n",
    "  echo number of parameters: $#\n",
    "  echo last exit code: $?\n",
    "  echo current options flags: $-\n",
    "  echo process id: $$\n",
    "  cat&\n",
    "  echo last background process: $!\n",
    "  echo name of the shell: $0\n",
    "  echo startup: $_\n",
    ")\n",
    "f aaa bbb ccc"
   ]
  },
  {
   "cell_type": "markdown",
   "metadata": {},
   "source": [
    "# Shell Expansions"
   ]
  },
  {
   "cell_type": "markdown",
   "metadata": {},
   "source": [
    "The order of expansions is:"
   ]
  },
  {
   "cell_type": "markdown",
   "metadata": {},
   "source": [
    "- brace expansion; \n",
    "- tilde expansion, parameter and variable expansion, arithmetic expansion, and command substitution (done in a left-to-right fashion);\n",
    "- word splitting; \n",
    "- filename expansion;"
   ]
  },
  {
   "cell_type": "markdown",
   "metadata": {},
   "source": [
    "### Brace Expansion"
   ]
  },
  {
   "cell_type": "code",
   "execution_count": 123,
   "metadata": {},
   "outputs": [
    {
     "name": "stdout",
     "output_type": "stream",
     "text": [
      "1a 1b 1c\n",
      "01 03 05 07 09\n"
     ]
    }
   ],
   "source": [
    "%%bash\n",
    "\n",
    "echo 1{a,b,c}\n",
    "echo {01..10..2}"
   ]
  },
  {
   "cell_type": "markdown",
   "metadata": {},
   "source": [
    "### Tilde expansion"
   ]
  },
  {
   "cell_type": "code",
   "execution_count": 124,
   "metadata": {},
   "outputs": [
    {
     "name": "stdout",
     "output_type": "stream",
     "text": [
      "$HOME: /home/sage\n",
      "$PWD: /home/sage/bash\n",
      "$OLDPWD: ~-\n"
     ]
    }
   ],
   "source": [
    "%%bash\n",
    "\n",
    "echo '$HOME:' ~\n",
    "echo '$PWD:' ~+\n",
    "echo '$OLDPWD:' ~-\n",
    "\n"
   ]
  },
  {
   "cell_type": "markdown",
   "metadata": {},
   "source": [
    "Directory stack. Commands `pushd` and `popd`."
   ]
  },
  {
   "cell_type": "code",
   "execution_count": 125,
   "metadata": {},
   "outputs": [
    {
     "name": "stdout",
     "output_type": "stream",
     "text": [
      "add $HOME to the directory stack\n",
      "~ ~/bash\n",
      "print last and previous directories: /home/sage /home/sage/bash\n"
     ]
    }
   ],
   "source": [
    "%%bash\n",
    "\n",
    "echo 'add $HOME to the directory stack'\n",
    "pushd ~\n",
    "echo print last and previous directories: ~+0 ~+1"
   ]
  },
  {
   "cell_type": "markdown",
   "metadata": {},
   "source": [
    "### Shell Parameter Expansion"
   ]
  },
  {
   "cell_type": "code",
   "execution_count": 126,
   "metadata": {},
   "outputs": [
    {
     "name": "stdout",
     "output_type": "stream",
     "text": [
      "basic: /home/sage\n",
      "without optional braces: /home/sage\n"
     ]
    }
   ],
   "source": [
    "%%bash\n",
    "\n",
    "echo basic: ${HOME}\n",
    "echo without optional braces: $HOME"
   ]
  },
  {
   "cell_type": "markdown",
   "metadata": {},
   "source": [
    "#### Indirect expansion"
   ]
  },
  {
   "cell_type": "code",
   "execution_count": 127,
   "metadata": {},
   "outputs": [
    {
     "name": "stdout",
     "output_type": "stream",
     "text": [
      "expands by variable name and returns value: value\n",
      "expands reference and returns variable name: var\n",
      "expands variables starting with 'va': var varName varRef\n",
      "expands variables starting with 'va': var varName varRef\n",
      "expand array indices: 0 1 2\n",
      "expand array indices: 0 1 2\n"
     ]
    }
   ],
   "source": [
    "%%bash\n",
    "\n",
    "var=value\n",
    "varName=\"var\"\n",
    "declare -n varRef=var\n",
    "echo expands by variable name and returns value: ${!varName}\n",
    "echo expands reference and returns variable name: ${!varRef}\n",
    "\n",
    "echo \"expands variables starting with 'va':\" ${!va*}\n",
    "echo \"expands variables starting with 'va':\" ${!va@}\n",
    "\n",
    "array=(a b c)\n",
    "echo expand array indices: ${!array[*]}\n",
    "echo expand array indices: ${!array[@]}\n"
   ]
  },
  {
   "cell_type": "markdown",
   "metadata": {},
   "source": [
    "Default value."
   ]
  },
  {
   "cell_type": "code",
   "execution_count": 128,
   "metadata": {},
   "outputs": [
    {
     "name": "stdout",
     "output_type": "stream",
     "text": [
      "ignore default value: value\n",
      "use default instead of the null: defaultValue\n",
      "use default instead of the unset: otherDefaultValue\n"
     ]
    }
   ],
   "source": [
    "%%bash\n",
    "\n",
    "var=value\n",
    "unsetVar=\"unsetValue\"\n",
    "unset unsetVar\n",
    "nullVar=\n",
    "defVar=defaultValue\n",
    "\n",
    "echo ignore default value: ${var:-$defVar}\n",
    "echo use default instead of the null: ${nullVar:-$defVar}\n",
    "echo use default instead of the unset: ${unsetVar:-otherDefaultValue}"
   ]
  },
  {
   "cell_type": "markdown",
   "metadata": {},
   "source": [
    "Conditional default value."
   ]
  },
  {
   "cell_type": "code",
   "execution_count": 129,
   "metadata": {},
   "outputs": [
    {
     "name": "stdout",
     "output_type": "stream",
     "text": [
      "ignore setting a default value: value\n",
      "set default value if null: defaultValue defaultValue\n",
      "set default value if unset: defaultValue defaultValue\n"
     ]
    }
   ],
   "source": [
    "%%bash\n",
    "\n",
    "var=value\n",
    "unsetVar=\"unsetValue\"\n",
    "unset unsetVar\n",
    "nullVar=\n",
    "defVar=defaultValue\n",
    "\n",
    "echo ignore setting a default value: ${var:=$defVar}\n",
    "echo set default value if null: ${nullVar:=$defVar} ${nullVar}\n",
    "echo set default value if unset: ${unsetVar:=$defVar} ${unsetVar}"
   ]
  },
  {
   "cell_type": "markdown",
   "metadata": {},
   "source": [
    "Invalid usage."
   ]
  },
  {
   "cell_type": "code",
   "execution_count": 130,
   "metadata": {},
   "outputs": [
    {
     "name": "stderr",
     "output_type": "stream",
     "text": [
      "bash: line 4: $1: cannot assign in this way\n"
     ]
    }
   ],
   "source": [
    "%%bash\n",
    "\n",
    "var=value\n",
    "\n",
    "echo set default to the positional parameter: ${1:=$var} $1"
   ]
  },
  {
   "cell_type": "markdown",
   "metadata": {},
   "source": [
    "Validation."
   ]
  },
  {
   "cell_type": "code",
   "execution_count": 131,
   "metadata": {},
   "outputs": [
    {
     "name": "stdout",
     "output_type": "stream",
     "text": [
      "ignore validation: value\n"
     ]
    },
    {
     "name": "stderr",
     "output_type": "stream",
     "text": [
      "bash: line 9: nullVar: Variable is Null\n"
     ]
    }
   ],
   "source": [
    "%%bash\n",
    "\n",
    "var=value\n",
    "unsetVar=\"unsetValue\"\n",
    "unset unsetVar\n",
    "nullVar=\n",
    "defVar=defaultValue\n",
    "\n",
    "echo ignore validation: ${var:?'Invalid var'}\n",
    "echo validate null: ${nullVar:?'Variable is Null'}\n",
    "echo validate unset: ${unsetVar:?'Variable is unset'}"
   ]
  },
  {
   "cell_type": "markdown",
   "metadata": {},
   "source": [
    "Set default if variable has a value."
   ]
  },
  {
   "cell_type": "code",
   "execution_count": 132,
   "metadata": {},
   "outputs": [
    {
     "name": "stdout",
     "output_type": "stream",
     "text": [
      "if variable has value then set default: defVar\n",
      "do nothing if null:\n",
      "do nothing if unset:\n"
     ]
    }
   ],
   "source": [
    "%%bash\n",
    "\n",
    "var=value\n",
    "unsetVar=\"unsetValue\"\n",
    "unset unsetVar\n",
    "nullVar=\n",
    "defVar=defaultValue\n",
    "\n",
    "echo if variable has value then set default: ${var:+defVar}\n",
    "echo do nothing if null: ${nullVar:+defVar}\n",
    "echo do nothing if unset: ${unsetVar:+defVar}"
   ]
  },
  {
   "cell_type": "markdown",
   "metadata": {},
   "source": [
    "#### Substring expansion"
   ]
  },
  {
   "cell_type": "code",
   "execution_count": 133,
   "metadata": {},
   "outputs": [
    {
     "name": "stdout",
     "output_type": "stream",
     "text": [
      "first char: a\n",
      "substring: alu\n",
      "last three chars: lue\n",
      "second and third array element: b c\n",
      "second and third array element: b c\n",
      "second and third parameters: b c\n",
      "second and third parameters: b c\n",
      "last parameter: e\n"
     ]
    }
   ],
   "source": [
    "%%bash\n",
    "\n",
    "var=value\n",
    "\n",
    "echo first char: ${var:1:1}\n",
    "echo substring: ${var:1:-1}\n",
    "echo last three chars: ${var: -3}\n",
    "\n",
    "array=(a b c d e)\n",
    "echo second and third array element: ${array[@]:1:2}\n",
    "echo second and third array element: ${array[*]:1:2}\n",
    "\n",
    "f() (\n",
    "    echo second and third parameters: ${@:2:2}\n",
    "    echo second and third parameters: ${*:2:2}\n",
    "    echo last parameter: ${*: -1}\n",
    ")\n",
    "f a b c d e"
   ]
  },
  {
   "cell_type": "markdown",
   "metadata": {},
   "source": [
    "#### Length Expansion"
   ]
  },
  {
   "cell_type": "code",
   "execution_count": 134,
   "metadata": {},
   "outputs": [
    {
     "name": "stdout",
     "output_type": "stream",
     "text": [
      "string length: 5\n",
      "array length: 5\n",
      "array length: 5\n",
      "array elements length: 1 2 3\n",
      "array elements length: 3 2 1\n"
     ]
    }
   ],
   "source": [
    "%%bash\n",
    "\n",
    "var=value\n",
    "array=(a b c d e)\n",
    "\n",
    "echo string length: ${#var}\n",
    "echo array length: ${#array[*]}\n",
    "echo array length: ${#array[@]}\n",
    "\n",
    "array=(aaa bb c)\n",
    "echo array elements length: ${#array[-1]} ${#array[-2]} ${#array[-3]}\n",
    "echo array elements length: ${#array[0]} ${#array[1]} ${#array[2]}"
   ]
  },
  {
   "cell_type": "markdown",
   "metadata": {},
   "source": [
    "#### Pattern expansion"
   ]
  },
  {
   "cell_type": "markdown",
   "metadata": {},
   "source": [
    "From begin."
   ]
  },
  {
   "cell_type": "code",
   "execution_count": 135,
   "metadata": {},
   "outputs": [
    {
     "name": "stdout",
     "output_type": "stream",
     "text": [
      "match shortest: user/app.log\n",
      "match shortest: user/app.log user/srv.log user/svc.log\n",
      "match longest: app.log\n",
      "match longest: app.log srv.log svc.log\n"
     ]
    }
   ],
   "source": [
    "%%bash\n",
    "\n",
    "var='home/user/app.log'\n",
    "array=('home/user/app.log' 'home/user/srv.log' 'home/user/svc.log')\n",
    "\n",
    "echo match shortest: ${var#*/}\n",
    "echo match shortest: ${array[@]#*/}\n",
    "echo match longest: ${var##*/}\n",
    "echo match longest: ${array[@]##*/}"
   ]
  },
  {
   "cell_type": "markdown",
   "metadata": {},
   "source": [
    "From the end."
   ]
  },
  {
   "cell_type": "code",
   "execution_count": 136,
   "metadata": {},
   "outputs": [
    {
     "name": "stdout",
     "output_type": "stream",
     "text": [
      "match shortest: home/user\n",
      "match shortest: home/user home/user home/user\n",
      "match longest: home\n",
      "match longest: home home home\n"
     ]
    }
   ],
   "source": [
    "%%bash\n",
    "\n",
    "var='home/user/app.log'\n",
    "array=('home/user/app.log' 'home/user/srv.log' 'home/user/svc.log')\n",
    "\n",
    "echo match shortest: ${var%/*}\n",
    "echo match shortest: ${array[@]%/*}\n",
    "echo match longest: ${var%%/*}\n",
    "echo match longest: ${array[@]%%/*}"
   ]
  },
  {
   "cell_type": "markdown",
   "metadata": {},
   "source": [
    "Replace."
   ]
  },
  {
   "cell_type": "code",
   "execution_count": 137,
   "metadata": {},
   "outputs": [
    {
     "name": "stdout",
     "output_type": "stream",
     "text": [
      "replace longest: home/john/app.log\n",
      "replace longest from the start: etc/user/app.log\n",
      "replace longest from the end: home/user/app.txt\n"
     ]
    }
   ],
   "source": [
    "%%bash\n",
    "\n",
    "var='home/user/app.log'\n",
    "\n",
    "echo replace longest: ${var/user/john}\n",
    "echo replace longest from the start: ${var/#home/etc}\n",
    "echo replace longest from the end: ${var/%log/txt}"
   ]
  },
  {
   "cell_type": "markdown",
   "metadata": {},
   "source": [
    "Case expansion."
   ]
  },
  {
   "cell_type": "code",
   "execution_count": 138,
   "metadata": {},
   "outputs": [
    {
     "name": "stdout",
     "output_type": "stream",
     "text": [
      "first char to upper case: Home/user/app.log same as Home/user/app.log\n",
      "first char to upper case: home/user/app.log\n",
      "all matches to upper case: home/uSer/app.log\n",
      "first char to lower case: uSeruSer\n",
      "all matches to lower case: Useruser\n"
     ]
    }
   ],
   "source": [
    "%%bash\n",
    "\n",
    "var='home/user/app.log'\n",
    "echo first char to upper case: ${var^} same as ${var^?}\n",
    "echo first char to upper case: ${var^s}\n",
    "echo all matches to upper case: ${var^^s}\n",
    "\n",
    "var=USeruSer\n",
    "echo first char to lower case: ${var,U}\n",
    "echo all matches to lower case: ${var,,S}"
   ]
  },
  {
   "cell_type": "markdown",
   "metadata": {},
   "source": [
    "Transformation expansion."
   ]
  },
  {
   "cell_type": "code",
   "execution_count": 139,
   "metadata": {},
   "outputs": [
    {
     "name": "stderr",
     "output_type": "stream",
     "text": [
      "bash: line 3: ${var@Q}: bad substitution\n",
      "bash: line 4: ${var@E}: bad substitution\n",
      "bash: line 7: ${var@P}: bad substitution\n",
      "bash: line 10: ${var@A}: bad substitution\n"
     ]
    }
   ],
   "source": [
    "%%bash\n",
    "\n",
    "var='\\\"value'\n",
    "echo input: ${var@Q}\n",
    "echo escape: ${var@E} same as $'\\\"value'\n",
    "\n",
    "var='\\\"value\\h'\n",
    "echo prompt: ${var@P}\n",
    "\n",
    "var='newValue'\n",
    "echo evaluate: ${var@A} ${var}"
   ]
  },
  {
   "cell_type": "markdown",
   "metadata": {},
   "source": [
    " Information expansion."
   ]
  },
  {
   "cell_type": "code",
   "execution_count": 140,
   "metadata": {},
   "outputs": [
    {
     "name": "stderr",
     "output_type": "stream",
     "text": [
      "bash: line 3: ${var@A}: bad substitution\n",
      "bash: line 4: ${var@a}: bad substitution\n"
     ]
    }
   ],
   "source": [
    "%%bash\n",
    "\n",
    "declare -i var=1\n",
    "echo expand declaration: ${var@A}\n",
    "echo expand flags: ${var@a}"
   ]
  },
  {
   "cell_type": "markdown",
   "metadata": {},
   "source": [
    "## Command Substitution"
   ]
  },
  {
   "cell_type": "markdown",
   "metadata": {},
   "source": [
    "Executes command in the subshell."
   ]
  },
  {
   "cell_type": "code",
   "execution_count": 141,
   "metadata": {},
   "outputs": [
    {
     "name": "stdout",
     "output_type": "stream",
     "text": [
      "Hello! same as Hello!\n"
     ]
    }
   ],
   "source": [
    "%%bash\n",
    "\n",
    "msg=Hello!\n",
    "echo $(echo \"$msg\") same as `echo $msg`"
   ]
  },
  {
   "cell_type": "markdown",
   "metadata": {},
   "source": [
    "Read from file"
   ]
  },
  {
   "cell_type": "code",
   "execution_count": 142,
   "metadata": {},
   "outputs": [
    {
     "name": "stdout",
     "output_type": "stream",
     "text": [
      "read from file \"John Dave Jim\" same as \"John Dave Jim\" but faster\n"
     ]
    }
   ],
   "source": [
    "%%bash\n",
    "\n",
    "echo read from file \\\"$(<'files/data')\\\" same as \\\"$(cat 'files/data')\\\" but faster"
   ]
  },
  {
   "cell_type": "markdown",
   "metadata": {},
   "source": [
    "## Arithmetic Expansion"
   ]
  },
  {
   "cell_type": "markdown",
   "metadata": {},
   "source": [
    "Evaluates arithmetic expressions."
   ]
  },
  {
   "cell_type": "code",
   "execution_count": 143,
   "metadata": {},
   "outputs": [
    {
     "name": "stdout",
     "output_type": "stream",
     "text": [
      "42\n"
     ]
    }
   ],
   "source": [
    "%%bash\n",
    "\n",
    "expression='21 * 2'\n",
    "echo $(($expression))"
   ]
  },
  {
   "cell_type": "markdown",
   "metadata": {},
   "source": [
    "## Process Substitution"
   ]
  },
  {
   "cell_type": "markdown",
   "metadata": {},
   "source": [
    "Passing filename. In this example cat gets filename and read it. "
   ]
  },
  {
   "cell_type": "code",
   "execution_count": 144,
   "metadata": {},
   "outputs": [
    {
     "name": "stdout",
     "output_type": "stream",
     "text": [
      "Wed Jul 29 14:22:12 UTC 2020\n"
     ]
    }
   ],
   "source": [
    "%%bash\n",
    "cat <(date)"
   ]
  },
  {
   "cell_type": "markdown",
   "metadata": {},
   "source": [
    "In this example echo doesn't read filename it just prints it."
   ]
  },
  {
   "cell_type": "code",
   "execution_count": 145,
   "metadata": {},
   "outputs": [
    {
     "name": "stdout",
     "output_type": "stream",
     "text": [
      "date: /dev/fd/63\n"
     ]
    },
    {
     "name": "stderr",
     "output_type": "stream",
     "text": [
      "date: write error: Broken pipe\n"
     ]
    }
   ],
   "source": [
    "%%bash\n",
    "echo date: <(date)"
   ]
  },
  {
   "cell_type": "markdown",
   "metadata": {},
   "source": [
    "It needs to be piped because echo doesn't read stdin, but it reads parameters."
   ]
  },
  {
   "cell_type": "code",
   "execution_count": 146,
   "metadata": {},
   "outputs": [
    {
     "name": "stdout",
     "output_type": "stream",
     "text": [
      "date:\n"
     ]
    },
    {
     "name": "stderr",
     "output_type": "stream",
     "text": [
      "date: write error: Broken pipe\n"
     ]
    }
   ],
   "source": [
    "%%bash\n",
    "echo date: < <(date)"
   ]
  },
  {
   "cell_type": "code",
   "execution_count": 147,
   "metadata": {},
   "outputs": [
    {
     "name": "stdout",
     "output_type": "stream",
     "text": [
      "a\n",
      "b\n",
      "\tcx\n",
      "e\n",
      "\th\n"
     ]
    }
   ],
   "source": [
    "%%bash\n",
    "\n",
    "comm -3 <(sort 'files/file1' | uniq) <(sort 'files/file2' | uniq)"
   ]
  },
  {
   "cell_type": "markdown",
   "metadata": {},
   "source": [
    "Piping stderr to other process."
   ]
  },
  {
   "cell_type": "code",
   "execution_count": 148,
   "metadata": {},
   "outputs": [
    {
     "name": "stdout",
     "output_type": "stream",
     "text": [
      "No such file or directory\n"
     ]
    }
   ],
   "source": [
    "%%bash\n",
    "\n",
    "name=\"files/invalid\"\n",
    "pattern=\"cat: ${name/\\//\\\\/}: \"\n",
    "(cat $name >/dev/null) 2> >(sed \"s/${pattern}//\")"
   ]
  },
  {
   "cell_type": "markdown",
   "metadata": {},
   "source": [
    "## Word Splitting"
   ]
  },
  {
   "cell_type": "markdown",
   "metadata": {},
   "source": [
    "`$IFS` is a delimiter that is using for word splitting."
   ]
  },
  {
   "cell_type": "markdown",
   "metadata": {},
   "source": [
    "## Filename Expansion"
   ]
  },
  {
   "cell_type": "markdown",
   "metadata": {},
   "source": [
    "After executing word splitting Bash performs scanning for `*`, `?` and `[`. Then replaces them with filenames."
   ]
  },
  {
   "cell_type": "markdown",
   "metadata": {},
   "source": [
    "#### *"
   ]
  },
  {
   "cell_type": "code",
   "execution_count": 149,
   "metadata": {},
   "outputs": [
    {
     "name": "stdout",
     "output_type": "stream",
     "text": [
      "files/2.log\n",
      "files/22.log\n",
      "files/data\n",
      "files/file1\n",
      "files/file2\n",
      "files/file3\n"
     ]
    }
   ],
   "source": [
    "%%bash\n",
    "\n",
    "ls files/*"
   ]
  },
  {
   "cell_type": "markdown",
   "metadata": {},
   "source": [
    "`/**` matches only directories and subdirectories."
   ]
  },
  {
   "cell_type": "code",
   "execution_count": 150,
   "metadata": {},
   "outputs": [
    {
     "name": "stdout",
     "output_type": "stream",
     "text": [
      "./files/2.log\n",
      "./files/22.log\n",
      "./files/data\n",
      "./files/file1\n",
      "./files/file2\n",
      "./files/file3\n"
     ]
    }
   ],
   "source": [
    "%%bash\n",
    "\n",
    "ls ./**/*"
   ]
  },
  {
   "cell_type": "markdown",
   "metadata": {},
   "source": [
    "#### ?"
   ]
  },
  {
   "cell_type": "code",
   "execution_count": 151,
   "metadata": {},
   "outputs": [
    {
     "name": "stdout",
     "output_type": "stream",
     "text": [
      "files/file1\n",
      "files/file2\n",
      "files/file3\n"
     ]
    }
   ],
   "source": [
    "%%bash\n",
    "\n",
    "ls files/file?"
   ]
  },
  {
   "cell_type": "markdown",
   "metadata": {},
   "source": [
    "#### []"
   ]
  },
  {
   "cell_type": "code",
   "execution_count": 152,
   "metadata": {},
   "outputs": [
    {
     "name": "stdout",
     "output_type": "stream",
     "text": [
      "files/file1\n",
      "files/file3\n"
     ]
    }
   ],
   "source": [
    "%%bash\n",
    "\n",
    "ls files/file[13]"
   ]
  },
  {
   "cell_type": "code",
   "execution_count": 153,
   "metadata": {},
   "outputs": [
    {
     "name": "stdout",
     "output_type": "stream",
     "text": [
      "files/file1\n",
      "files/file2\n",
      "files/file3\n"
     ]
    }
   ],
   "source": [
    "%%bash\n",
    "\n",
    "ls files/file[1-3]"
   ]
  },
  {
   "cell_type": "markdown",
   "metadata": {},
   "source": [
    "### Extended pattern matching"
   ]
  },
  {
   "cell_type": "markdown",
   "metadata": {},
   "source": [
    "To enable extended pattern matching it needs to set option `extglob`.\n",
    "```\n",
    "shopt -s extglob\n",
    "```"
   ]
  },
  {
   "cell_type": "code",
   "execution_count": 154,
   "metadata": {},
   "outputs": [
    {
     "name": "stdout",
     "output_type": "stream",
     "text": [
      "2.log\n",
      "22.log\n",
      "data\n",
      "file1\n",
      "file2\n",
      "file3\n",
      "\n",
      "2.log\n",
      "22.log\n",
      "data\n",
      "file1\n",
      "file2\n",
      "file3\n",
      "\n",
      "files/2.log\n",
      "files/22.log\n",
      "\n",
      "files/2.log\n",
      "\n",
      "files/22.log\n"
     ]
    }
   ],
   "source": [
    "%%bash\n",
    "\n",
    "shopt -s extglob\n",
    "\n",
    "# zero or one\n",
    "ls files?(2)\n",
    "echo\n",
    "# zero or more\n",
    "ls files*(2)\n",
    "echo\n",
    "# one or more\n",
    "ls files/+(2).log\n",
    "echo\n",
    "# one\n",
    "ls files/@(2).log\n",
    "echo\n",
    "# anything except one\n",
    "ls files/!(2).log"
   ]
  },
  {
   "cell_type": "markdown",
   "metadata": {},
   "source": [
    "# Redirection"
   ]
  },
  {
   "cell_type": "markdown",
   "metadata": {},
   "source": [
    "#### Order of redirections is significant"
   ]
  },
  {
   "cell_type": "markdown",
   "metadata": {},
   "source": [
    "`stdout` and `stderr` are redirected to temp file."
   ]
  },
  {
   "cell_type": "code",
   "execution_count": 157,
   "metadata": {},
   "outputs": [],
   "source": [
    "%%bash\n",
    "\n",
    "t=$(tempfile) || exit\n",
    "trap \"rm -f -- '$t'\" EXIT\n",
    "\n",
    "ls invalid > $t 2>&1"
   ]
  },
  {
   "cell_type": "markdown",
   "metadata": {},
   "source": [
    "`stderr` aren't redirected, because `stderr` makes copy of `stdout` before it was redirected. And you can see error message."
   ]
  },
  {
   "cell_type": "code",
   "execution_count": 158,
   "metadata": {},
   "outputs": [
    {
     "name": "stdout",
     "output_type": "stream",
     "text": [
      "ls: cannot access 'invalid': No such file or directory\n"
     ]
    }
   ],
   "source": [
    "%%bash\n",
    "\n",
    "t=$(tempfile) || exit\n",
    "trap \"rm -f -- '$t'\" EXIT\n",
    "\n",
    "ls invalid 2>&1 > $t"
   ]
  },
  {
   "cell_type": "markdown",
   "metadata": {},
   "source": [
    "#### Redirecting input"
   ]
  },
  {
   "cell_type": "code",
   "execution_count": null,
   "metadata": {},
   "outputs": [],
   "source": []
  },
  {
   "cell_type": "code",
   "execution_count": null,
   "metadata": {},
   "outputs": [],
   "source": []
  },
  {
   "cell_type": "markdown",
   "metadata": {},
   "source": [
    "# Additional"
   ]
  },
  {
   "cell_type": "markdown",
   "metadata": {},
   "source": [
    "#### End of command options"
   ]
  },
  {
   "cell_type": "markdown",
   "metadata": {},
   "source": [
    "`--` double-dash means the end of command options and beginning of optional parameters."
   ]
  },
  {
   "cell_type": "code",
   "execution_count": 156,
   "metadata": {},
   "outputs": [
    {
     "name": "stdout",
     "output_type": "stream",
     "text": [
      "-v\n"
     ]
    },
    {
     "name": "stderr",
     "output_type": "stream",
     "text": [
      "Usage: grep [OPTION]... PATTERN [FILE]...\n",
      "Try 'grep --help' for more information.\n"
     ]
    }
   ],
   "source": [
    "%%bash\n",
    "\n",
    "# search for \"-v\"\n",
    "echo \"-v\" | grep -- -v\n",
    "# this doesn't work because -v is a grep option\n",
    "echo \"-v\" | grep -v"
   ]
  }
 ],
 "metadata": {
  "kernelspec": {
   "display_name": "Python 2",
   "language": "python",
   "name": "python2"
  },
  "language_info": {
   "codemirror_mode": {
    "name": "ipython",
    "version": 2
   },
   "file_extension": ".py",
   "mimetype": "text/x-python",
   "name": "python",
   "nbconvert_exporter": "python",
   "pygments_lexer": "ipython2",
   "version": "2.7.15"
  }
 },
 "nbformat": 4,
 "nbformat_minor": 2
}
